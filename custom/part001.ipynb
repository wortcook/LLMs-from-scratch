{
 "cells": [
  {
   "cell_type": "markdown",
   "metadata": {},
   "source": [
    "## Data Loading"
   ]
  },
  {
   "cell_type": "code",
   "execution_count": null,
   "metadata": {},
   "outputs": [
    {
     "name": "stdout",
     "output_type": "stream",
     "text": [
      "                                              source  \\\n",
      "0                            It is raining hard now.   \n",
      "1  Please refer to the owner's manual for more de...   \n",
      "2            Tom has no intention of leaving Boston.   \n",
      "3                                  Nobody likes you.   \n",
      "4                                    Don't tell him.   \n",
      "\n",
      "                                              target  \n",
      "0                      Il pleut beaucoup maintenant.  \n",
      "1  Veuillez vous reporter au guide d'utilisation ...  \n",
      "2         Tom n'a pas l'intention de quitter Boston.  \n",
      "3                                Personne ne t'aime.  \n",
      "4                                    Ne lui dis pas.  \n"
     ]
    }
   ],
   "source": [
    "import requests\n",
    "import io\n",
    "\n",
    "import pandas as pd\n",
    "# # Load your dataset\n",
    "\n",
    "DE_TEST_FILE  = 'deu_test.json'\n",
    "DE_TRAIN_FILE = 'deu_training.json'\n",
    "FR_TEST_FILE  = 'fra_test.json'\n",
    "FR_TRAIN_FILE = 'fra_training.json'\n",
    "ES_TEST_FILE  = 'spa_test.json'\n",
    "ES_TRAIN_FILE = 'spa_training.json'\n",
    "\n",
    "def read_json_from_git(fname):\n",
    "    url = f'https://raw.githubusercontent.com/wortcook/LLMs-from-scratch/refs/heads/main/data/{fname}'\n",
    "    s = requests.get(url).content\n",
    "    \n",
    "    return pd.read_json(io.StringIO(s.decode('utf-8')))\n",
    "\n",
    "de_test  = read_json_from_git(DE_TEST_FILE)\n",
    "print(de_test.head())\n",
    "\n"
   ]
  }
 ],
 "metadata": {
  "kernelspec": {
   "display_name": "llmscratch",
   "language": "python",
   "name": "python3"
  },
  "language_info": {
   "codemirror_mode": {
    "name": "ipython",
    "version": 3
   },
   "file_extension": ".py",
   "mimetype": "text/x-python",
   "name": "python",
   "nbconvert_exporter": "python",
   "pygments_lexer": "ipython3",
   "version": "3.10.13"
  }
 },
 "nbformat": 4,
 "nbformat_minor": 2
}
